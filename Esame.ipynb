{
 "cells": [
  {
   "cell_type": "markdown",
   "metadata": {},
   "source": [
    "# Esame Data Science - a.a. 2021/2022\n",
    "\n",
    "Di seguitono sono proposti gli esercizi per la prova d'esame.\n",
    "Per presentarsi all'esame è necessario aver implementato una soluzione per tutti e 3 gli esercizi.\n",
    "\n",
    "1. [Esercizio Classificazione](#esercizio1)\n",
    "2. [Esercizio Serie Storica](#esercizio2)\n",
    "3. [Predizione di malattie cardiache](#esercizio3)"
   ]
  },
  {
   "cell_type": "markdown",
   "metadata": {},
   "source": [
    "<a id=\"esercizio1\"></a>\n",
    "## Esercizio Classificazione"
   ]
  },
  {
   "cell_type": "markdown",
   "metadata": {},
   "source": [
    "L'Organizzazione mondiale della sanità ha stimato che 12 milioni di decessi si verificano in tutto il mondo, ogni anno a causa di malattie cardiache. La metà dei decessi negli Stati Uniti e in altri paesi sviluppati è dovuta a malattie cardiovascolari. La prognosi precoce delle malattie cardiovascolari può aiutare a prendere decisioni sui cambiamenti dello stile di vita nei pazienti ad alto rischio e, a sua volta, ridurre le complicanze.\n",
    "\n",
    "In questo esercizio si chiedere di utilizzare i decision tree (e magari i boosted decision trees) per individuare i fattori di rischio delle malattie cardiache più rilevanti e prevedere il rischio complessivo utilizzando la regressione logistica."
   ]
  },
  {
   "cell_type": "markdown",
   "metadata": {},
   "source": [
    "Il dataset con i dati che useremo si trova nel filw `data/framingham.csv`. Il dataset contiene i seguenti dati:\n",
    "\n",
    "Demografici:\n",
    "- male: maschio o femmina (nominale)\n",
    "- age: età del paziente (continua - Sebbene le età registrate siano state troncate a numeri interi, il concetto di età è continuo)\n",
    "\n",
    "Comportamentali:\n",
    "- currentSmoker: se il paziente sia o meno un fumatore attuale (nominale)\n",
    "- cigsPerDay: il numero di sigarette che la persona ha fumato in media in un giorno (può essere considerato continuo in quanto si può avere un numero qualsiasi di sigarette, anche mezza sigaretta)\n",
    "\n",
    "Storia medica:\n",
    "- BPMeds: se il paziente assumeva o meno un farmaco per la pressione arteriosa (nominale)\n",
    "- prevalentStroke: se il paziente ha avuto o meno un ictus (nominale)\n",
    "- prevalentHyp: se il paziente è iperteso (nominale)\n",
    "- diabetes: se il paziente ha o meno il diabete (nominale)\n",
    "\n",
    "Situazione medica attuale:\n",
    "- totChol: livello di colesterolo totale (continuo)\n",
    "- sysBP: pressione arteriosa sistolica (continua)\n",
    "- diaBP: pressione arteriosa diastolica (continua)\n",
    "- BMI: indice di massa corporea (continuo)\n",
    "- heartRate: frequenza cardiaca (continua - Nella ricerca medica, variabili come la frequenza cardiaca, sebbene in realtà discrete, sono comunque considerate continue a causa del gran numero di possibili valori)\n",
    "- glucose: livello di glucosio (continuo)\n",
    "\n",
    "Variabile che si vuole predire (target desiderato):\n",
    "- TenYearCHD: Rischio di malattia coronarica nei prossimi 10 anni CHD (binario: '1' significa sì, '0' significa no)"
   ]
  },
  {
   "cell_type": "markdown",
   "metadata": {},
   "source": [
    "Si richiede di leggere il dataset, fare una parte di statistica descrittiva e quindi di provare a creare un albero decisionale sui dati in esso contenuti per descrivere quali variabili influiscono maggiormente sul consumo alcolico nei ragazzi.\n",
    "\n",
    "L'albero può essere troncato ad una profondità di qualche livello e deve essere allegato e discusso con alcune considerazioni sul dataset.\n",
    "\n",
    "Dopo la realizzazione dell'albero, viene richiesto di disegnarlo e caricare l'immagine nel notebook (è possibile utilizzare il sito internet visto a lezione (http://webgraphviz.com).\n",
    "I risultati ottenuti nell'albero devono essere quindi brevemente commentati."
   ]
  },
  {
   "cell_type": "markdown",
   "metadata": {},
   "source": [
    "<a id=\"esercizio2\"></a>\n",
    "## Esercizio serie storica"
   ]
  },
  {
   "cell_type": "markdown",
   "metadata": {},
   "source": [
    "Questo secondo esercizio richiede di effettuare un'analisi di dati di serie storica.\n",
    "\n",
    "Leggendo il dataset `data/globaltemperatures.csv`, caricare i dati della media della temperatura nei diversi mesi dell'anno dal 1750. Plottare la serie dati, analizarne le caratteristiche (tendenza e stagionalità) e provare a fare una regressione lineare del trend (per valutarne la tendenza). Per fare regressione lineare di una timeseries è conveniente trasformare l'indice (l'asse X) in un numero che indica il numero di periodi passati dal momento inziale.\n",
    "\n",
    "Infine provare a usare la serie storica per produrre le temperature dei successivi 10 anni."
   ]
  },
  {
   "cell_type": "markdown",
   "metadata": {},
   "source": [
    "<a id=\"esercizio3\"></a>\n",
    "## Predizione di malattie cardiache"
   ]
  },
  {
   "cell_type": "markdown",
   "metadata": {
    "pycharm": {
     "name": "#%% md\n"
    }
   },
   "source": [
    "Prevedere se un paziente ha probabilità una malattia cardiaca o meno. Abbiamo un dato che classifica se i pazienti hanno o meno malattie cardiache in base alle caratteristiche in esso contenute. Cercheremo di utilizzare questi dati per creare un modello che tenti di prevedere se un paziente ha questa malattia o meno.\n",
    "\n",
    "Il set di dati è memorizzato nel file `heart.csv` e preso da\n",
    "https://archive.ics.uci.edu/ml/datasets/Heart+Malattia"
   ]
  }
 ],
 "metadata": {
  "kernelspec": {
   "display_name": "Python 3",
   "language": "python",
   "name": "python3"
  },
  "language_info": {
   "codemirror_mode": {
    "name": "ipython",
    "version": 3
   },
   "file_extension": ".py",
   "mimetype": "text/x-python",
   "name": "python",
   "nbconvert_exporter": "python",
   "pygments_lexer": "ipython3",
   "version": "3.9.12"
  },
  "nbTranslate": {
   "displayLangs": [
    "*"
   ],
   "hotkey": "alt-t",
   "langInMainMenu": true,
   "sourceLang": "en",
   "targetLang": "fr",
   "useGoogleTranslate": true
  }
 },
 "nbformat": 4,
 "nbformat_minor": 2
}